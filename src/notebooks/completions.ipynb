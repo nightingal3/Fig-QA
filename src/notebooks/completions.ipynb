{
 "cells": [
  {
   "cell_type": "code",
   "execution_count": 65,
   "source": [
    "!pip install openai\n",
    "\n",
    "import os\n",
    "import openai\n",
    "import pandas as pd\n",
    "import time\n",
    "\n",
    "openai.api_key = API KEY"
   ],
   "outputs": [
    {
     "output_type": "stream",
     "name": "stdout",
     "text": [
      "Requirement already satisfied: openai in /opt/homebrew/Caskroom/miniforge/base/envs/.venv/lib/python3.9/site-packages (0.11.4)\n",
      "Requirement already satisfied: pandas>=1.2.3 in /opt/homebrew/Caskroom/miniforge/base/envs/.venv/lib/python3.9/site-packages (from openai) (1.3.5)\n",
      "Requirement already satisfied: openpyxl>=3.0.7 in /opt/homebrew/Caskroom/miniforge/base/envs/.venv/lib/python3.9/site-packages (from openai) (3.0.9)\n",
      "Requirement already satisfied: tqdm in /opt/homebrew/Caskroom/miniforge/base/envs/.venv/lib/python3.9/site-packages (from openai) (4.62.3)\n",
      "Requirement already satisfied: pandas-stubs>=1.1.0.11 in /opt/homebrew/Caskroom/miniforge/base/envs/.venv/lib/python3.9/site-packages (from openai) (1.2.0.39)\n",
      "Requirement already satisfied: requests>=2.20 in /opt/homebrew/Caskroom/miniforge/base/envs/.venv/lib/python3.9/site-packages (from openai) (2.26.0)\n",
      "Requirement already satisfied: et-xmlfile in /opt/homebrew/Caskroom/miniforge/base/envs/.venv/lib/python3.9/site-packages (from openpyxl>=3.0.7->openai) (1.1.0)\n",
      "Requirement already satisfied: pytz>=2017.3 in /opt/homebrew/Caskroom/miniforge/base/envs/.venv/lib/python3.9/site-packages (from pandas>=1.2.3->openai) (2021.3)\n",
      "Requirement already satisfied: numpy>=1.20.0 in /opt/homebrew/Caskroom/miniforge/base/envs/.venv/lib/python3.9/site-packages (from pandas>=1.2.3->openai) (1.21.2)\n",
      "Requirement already satisfied: python-dateutil>=2.7.3 in /opt/homebrew/Caskroom/miniforge/base/envs/.venv/lib/python3.9/site-packages (from pandas>=1.2.3->openai) (2.8.2)\n",
      "Requirement already satisfied: certifi>=2017.4.17 in /opt/homebrew/Caskroom/miniforge/base/envs/.venv/lib/python3.9/site-packages (from requests>=2.20->openai) (2021.10.8)\n",
      "Requirement already satisfied: charset-normalizer~=2.0.0 in /opt/homebrew/Caskroom/miniforge/base/envs/.venv/lib/python3.9/site-packages (from requests>=2.20->openai) (2.0.7)\n",
      "Requirement already satisfied: urllib3<1.27,>=1.21.1 in /opt/homebrew/Caskroom/miniforge/base/envs/.venv/lib/python3.9/site-packages (from requests>=2.20->openai) (1.26.7)\n",
      "Requirement already satisfied: idna<4,>=2.5 in /opt/homebrew/Caskroom/miniforge/base/envs/.venv/lib/python3.9/site-packages (from requests>=2.20->openai) (3.2)\n",
      "Requirement already satisfied: six>=1.5 in /opt/homebrew/Caskroom/miniforge/base/envs/.venv/lib/python3.9/site-packages (from python-dateutil>=2.7.3->pandas>=1.2.3->openai) (1.16.0)\n"
     ]
    }
   ],
   "metadata": {}
  },
  {
   "cell_type": "code",
   "execution_count": 66,
   "source": [
    "test_data = pd.read_csv(\"../../data/human_responses/3.csv\")\n",
    "test_phrases = test_data[\"startphrase\"] + \". That is to say,\"\n",
    "test_phrases = test_phrases.str.replace(\"\\.\\.\", \".\")"
   ],
   "outputs": [
    {
     "output_type": "stream",
     "name": "stderr",
     "text": [
      "/var/folders/d3/bqgfb2g57w97_xkhzdnt1z800000gn/T/ipykernel_10331/2792409655.py:3: FutureWarning: The default value of regex will change from True to False in a future version.\n",
      "  test_phrases = test_phrases.str.replace(\"\\.\\.\", \".\")\n"
     ]
    }
   ],
   "metadata": {}
  },
  {
   "cell_type": "code",
   "execution_count": 94,
   "source": [
    "ADA_FINETUNED = 'ada:ft-user-6qia53bwp385gfq1da9w5yum-2021-11-28-03-10-25'\n",
    "BABBAGE_FINETUNED = 'babbage:ft-user-6qia53bwp385gfq1da9w5yum-2021-11-28-04-06-02'\n",
    "CURIE_FINETUNED = 'curie:ft-user-6qia53bwp385gfq1da9w5yum-2021-11-28-04-35-14'\n",
    "\n",
    "curr_engine = \"davinci\"\n",
    "\n",
    "#completion = openai.Completion.create(model=\"davinci\", prompt=\"Time is a crystal. This means you can change the future or you can't change the future. It means,\", temperature=0.4,\n",
    "    #max_tokens=150, n=1)\n",
    "#print(completion.choices[0].text)\n",
    "#assert False\n",
    "#print(curr_engine)\n",
    "startphrase = []\n",
    "completions = []\n",
    "temp = 0.4\n",
    "for i, phrase in enumerate(list(test_phrases)):\n",
    "    if i % 10 == 0: # rate limit...\n",
    "        time.sleep(60)\n",
    "    completion = openai.Completion.create(model=curr_engine, prompt=phrase, temperature=temp,\n",
    "    max_tokens=100, n=4, stop=[\".\"])\n",
    "    print(\"phrase: \", phrase)\n",
    "    for j in range(4):\n",
    "        startphrase.append(phrase)\n",
    "        print(\"completion:\", completion.choices[j].text)\n",
    "        completions.append(completion.choices[j].text)\n",
    "\n",
    "df = pd.DataFrame({\"startphrase\": startphrase, \"completion\": completions})\n",
    "df.to_csv(f\"{curr_engine}_{temp}_long_generation.csv\", index=False)"
   ],
   "outputs": [
    {
     "output_type": "stream",
     "name": "stdout",
     "text": [
      "phrase:  His temper was a marshmallow. That is to say,\n",
      "completion:  it was soft and sweet, but when you poked it, it melted into a puddle of goo\n",
      "completion:  it was a marshmallow\n",
      "completion:  it was soft and sweet, but it would melt under the heat of the sun, and if you poked it with a stick, it would turn into a blob of goo\n",
      "completion:  it was soft and white and sweet, and it melted at the slightest provocation\n",
      "phrase:  He has the belly of an unblown balloon. That is to say,\n",
      "completion:  his stomach is so big that it is impossible to tell if he is pregnant or not\n",
      "completion:  he is fat all over\n",
      "completion:  he has a belly, but it is not unblown\n",
      "completion:  a big, round belly\n",
      "phrase:  The razor has the cutting power of a cartoon cat's claws. That is to say,\n",
      "completion:  it's very sharp\n",
      "completion:  it's pretty mild\n",
      "completion:  it's not very sharp\n",
      "completion:  it cuts nothing\n",
      "phrase:  The sadness of her death was a planet. That is to say,\n",
      "completion:  it was a large, dark, heavy, immovable object that had been placed in my path\n",
      "completion:  it was a world of sorrow, a world of sorrows\n",
      "completion:  it was a large, heavy object that hung in the sky, the way a planet does, and it was a constant presence, the way a planet is\n",
      "completion:  it was a thing that had mass and volume and gravity\n",
      "phrase:  The villain is as beautiful as the Joker. That is to say,\n",
      "completion:  he is a tall, thin, pale man with a long nose and a sickly smile\n",
      "completion:  he's a man who wears makeup\n",
      "completion:  not beautiful at all\n",
      "completion:  he's a handsome man with a dark, twisted soul\n",
      "phrase:  The child has the energy of a sloth. That is to say,\n",
      "completion:  she has a lot of energy, but she is not good at using it\n",
      "completion:  he has none\n",
      "completion:  he has the energy of a sloth\n",
      "completion:  he is a sloth\n",
      "phrase:  The fortress appears as a pebble. That is to say,\n",
      "completion:  it is a small, round, black-colored stone, which is found in the river\n",
      "completion:  it is a small, round, black stone\n",
      "completion:  it is a place of power, a place of protection, a place of refuge, a place of safety\n",
      "completion:  it is a very small fortress\n",
      "phrase:  The girl moved as fast as a cheetah. That is to say,\n",
      "completion:  she moved as fast as a cheetah would if it were a human girl\n",
      "completion:  she moved fast\n",
      "completion:  she moved fast enough that it was difficult to track her\n",
      "completion:  she moved as fast as a cheetah that had been shot in the head, and was now moving in a daze\n",
      "phrase:  The event planning was met with clear skies. That is to say,\n",
      "completion:  the weather was perfect\n",
      "completion:  it was sunny, not cloudy\n",
      "completion:  the weather was perfect\n",
      "completion:  the weather was perfect\n",
      "phrase:  School is a prison. That is to say,\n",
      "completion:  school is a place where the young are incarcerated, and the old are imprisoned, and both are indoctrinated\n",
      "completion:  it is a place where there is a great deal of learning, but where there is no freedom\n",
      "completion:  it is a place where you are forced to spend your days in a certain way\n",
      "completion:  it is a place of confinement\n"
     ]
    }
   ],
   "metadata": {}
  },
  {
   "cell_type": "code",
   "execution_count": 36,
   "source": [
    "print(completion.choices[0].text)\n"
   ],
   "outputs": [
    {
     "output_type": "stream",
     "name": "stdout",
     "text": [
      " a very large red sun\n"
     ]
    }
   ],
   "metadata": {}
  }
 ],
 "metadata": {
  "orig_nbformat": 4,
  "language_info": {
   "name": "python",
   "version": "3.9.7",
   "mimetype": "text/x-python",
   "codemirror_mode": {
    "name": "ipython",
    "version": 3
   },
   "pygments_lexer": "ipython3",
   "nbconvert_exporter": "python",
   "file_extension": ".py"
  },
  "kernelspec": {
   "name": "python3",
   "display_name": "Python 3.9.7 64-bit ('.venv': conda)"
  },
  "interpreter": {
   "hash": "3043fb70fd2df7e9357aa7649f2e828b48d620d4fe7e46ef23f0096f1ce7edaf"
  }
 },
 "nbformat": 4,
 "nbformat_minor": 2
}
